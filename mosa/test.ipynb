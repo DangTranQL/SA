{
 "cells": [
  {
   "cell_type": "code",
   "execution_count": 1,
   "metadata": {},
   "outputs": [],
   "source": [
    "import numpy as np\n",
    "from tqdm import tqdm\n",
    "import random\n",
    "from paretoset import paretoset\n",
    "from contextlib import contextmanager\n",
    "import matplotlib.pyplot as plt\n",
    "from pymoo.indicators.gd import GD\n",
    "from pymoo.indicators.igd import IGD\n",
    "import warnings\n",
    "\n",
    "# NEW: space-filling & distance tools\n",
    "from scipy.stats import qmc\n",
    "from sklearn.neighbors import KDTree"
   ]
  },
  {
   "cell_type": "code",
   "execution_count": 4,
   "metadata": {},
   "outputs": [],
   "source": [
    "def bounds_arrays(param_names, bounds):\n",
    "        names = list(param_names)\n",
    "        lows  = np.array([bounds[k][0] for k in names], float)\n",
    "        highs = np.array([bounds[k][1] for k in names], float)\n",
    "        return names, lows, highs\n",
    "\n",
    "def sobol_batch(n, param_names, bounds):\n",
    "    # Owen-scrambled Sobol, scaled to bounds\n",
    "    names, lows, highs = bounds_arrays(param_names, bounds)\n",
    "    d = len(names)\n",
    "    eng = qmc.Sobol(d, scramble=True)\n",
    "    m = int(np.ceil(np.log2(max(2, n))))\n",
    "    X01 = eng.random_base2(m)[:n]\n",
    "    return qmc.scale(X01, lows, highs)"
   ]
  },
  {
   "cell_type": "code",
   "execution_count": 5,
   "metadata": {},
   "outputs": [],
   "source": [
    "param_names = ['alpha', 'n']\n",
    "bounds = {'alpha': (0.01, 50), 'n': (0.01, 10)}"
   ]
  },
  {
   "cell_type": "code",
   "execution_count": 6,
   "metadata": {},
   "outputs": [
    {
     "data": {
      "text/plain": [
       "array([[32.87651336,  9.8758632 ],\n",
       "       [21.3334617 ,  3.82812224],\n",
       "       [ 6.92090733,  6.11650047],\n",
       "       ...,\n",
       "       [ 1.92846111,  2.97153879],\n",
       "       [13.97638811,  7.12336148],\n",
       "       [25.58503945,  1.69990773]], shape=(1000, 2))"
      ]
     },
     "execution_count": 6,
     "metadata": {},
     "output_type": "execute_result"
    }
   ],
   "source": [
    "sobol_batch(1000, param_names, bounds)"
   ]
  }
 ],
 "metadata": {
  "kernelspec": {
   "display_name": "mosa",
   "language": "python",
   "name": "python3"
  },
  "language_info": {
   "codemirror_mode": {
    "name": "ipython",
    "version": 3
   },
   "file_extension": ".py",
   "mimetype": "text/x-python",
   "name": "python",
   "nbconvert_exporter": "python",
   "pygments_lexer": "ipython3",
   "version": "3.11.13"
  }
 },
 "nbformat": 4,
 "nbformat_minor": 2
}

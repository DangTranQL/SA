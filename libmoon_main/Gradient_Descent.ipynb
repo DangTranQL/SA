{
 "cells": [
  {
   "cell_type": "code",
   "execution_count": null,
   "id": "989254ce",
   "metadata": {},
   "outputs": [],
   "source": []
  },
  {
   "cell_type": "code",
   "execution_count": null,
   "id": "b2119b9f",
   "metadata": {},
   "outputs": [],
   "source": []
  },
  {
   "cell_type": "markdown",
   "id": "076ae5d5",
   "metadata": {},
   "source": [
    "\n",
    "On a high level, I am performing Pareto optimization of steady-state sensitivities using libmoon (EPOSolver).\n",
    "\n",
    "I optimize over decision variables z = (alpha, n), both > 0, for the\n",
    "1-D system:  x' = alpha / (1 + x^n) - x\n",
    "\n",
    "For each (alpha, n), I solve for the unique steady state x_ss s.t.:\n",
    "    g(x_ss; alpha, n) = alpha/(1 + x_ss^n) - x_ss = 0\n",
    "\n",
    "Objectives (to minimize):\n",
    "    f1 = |S_{alpha, x_ss}(alpha, n)|   # sensitivity magnitude wrt alpha\n",
    "    f2 = |S_{n,     x_ss}(alpha, n)|   # sensitivity magnitude wrt n\n",
    "\n",
    "I use:\n",
    "  - a custom PyTorch autograd.Function (XssNewton) to find x_ss AND provide\n",
    "    correct gradients via the implicit function theorem;\n",
    "  - libmoon’s EPOSolver (gradient-based) with a set of preference vectors\n",
    "    to cover the Pareto front;\n",
    "  - a simple 2-D non-dominated filtering pass to extract the front for plotting. You can use any filtering logic of your choice. I gave options from Paretoset and Pymoo libraries\n"
   ]
  },
  {
   "cell_type": "code",
   "execution_count": 1,
   "id": "06c85e19",
   "metadata": {},
   "outputs": [],
   "source": [
    "\n",
    "\n",
    "import torch\n",
    "import numpy as np\n",
    "import matplotlib.pyplot as plt\n",
    "\n",
    "\n",
    "import libmoon\n",
    "from libmoon.solver.gradient.methods import EPOSolver\n",
    "from libmoon.util.prefs import get_uniform_pref\n",
    "from libmoon.problem.synthetic.mop import BaseMOP\n",
    "\n",
    "# Set PyTorch to use 32-bit floating-point precision for calculations\n",
    "torch.set_default_dtype(torch.float32)\n",
    "\n",
    "\n"
   ]
  },
  {
   "cell_type": "markdown",
   "id": "2e8160e4",
   "metadata": {},
   "source": [
    "Core Mathematical Functions"
   ]
  },
  {
   "cell_type": "code",
   "execution_count": 2,
   "id": "78d84f00",
   "metadata": {},
   "outputs": [],
   "source": [
    "\n",
    "def abs_smooth(z, eps: float = 1e-8):\n",
    "    \"\"\"\n",
    "    Smooth absolute value: sqrt(z^2 + eps), differentiable at 0.\n",
    "\n",
    "    Why:\n",
    "    ----\n",
    "    Plain |z| has a kink at 0 (undefined gradient). This smooth version\n",
    "    avoids that, helping gradient-based methods remain stable thus aiding gradient computation during optimization.\n",
    "\n",
    "    Parameters\n",
    "    ----------\n",
    "    z : torch.Tensor\n",
    "        Input tensor.\n",
    "    eps : float\n",
    "        Small positive smoothing constant.\n",
    "\n",
    "    Returns\n",
    "    -------\n",
    "    torch.Tensor\n",
    "        Smooth absolute value applied elementwise, computed as sqrt(z^2 + eps).\n",
    "    \"\"\"\n",
    "    return torch.sqrt(z * z + eps)\n",
    "\n",
    "\n",
    "\n",
    "class XssNewton(torch.autograd.Function):\n",
    "    \"\"\"\n",
    "    Custom PyTorch function to find the steady state (xss) of the ODE using Newton's method:\n",
    "    backpropagates using the implicit function theorem.\n",
    "\n",
    "    We solve g(x; alpha, n) = alpha/(1 + x^n) - x = 0 for x.\n",
    "\n",
    "    Forward:\n",
    "      Newton iterations on x, starting at x=1, until step size < tol.\n",
    "\n",
    "    Backward:\n",
    "      If g(x(alpha,n)) = 0, then by implicit differentiation:\n",
    "         dx/dalpha = - g_alpha / g_x,\n",
    "         dx/dn     = - g_n     / g_x\n",
    "      We assemble these and chain-rule with grad_out.\n",
    "    \"\"\"\n",
    "\n",
    "    @staticmethod\n",
    "    def forward(ctx, alpha, n, it=30, tol=1e-10):\n",
    "        \"\"\"\n",
    "        Find the steady state (xss) for given alpha and n using Newton's method.\n",
    "\n",
    "        Args:\n",
    "            ctx: Context to save tensors for backward pass.\n",
    "            alpha (torch.Tensor): Parameter controlling production rate.\n",
    "            n (torch.Tensor): Parameter controlling nonlinearity.\n",
    "            it (int): Maximum number of iterations (default: 30).\n",
    "            tol (float): Tolerance for convergence (default: 1e-10).\n",
    "\n",
    "        Returns:\n",
    "            torch.Tensor: Steady state value (xss).\n",
    "        \"\"\"\n",
    "        \n",
    "        x = torch.ones_like(alpha) #### Start near 1.0; any positive value works because the root is unique.\n",
    "        \n",
    "        for _ in range(int(it)): #### Iterate to refine x until it satisfies alpha / (1 + x^n) = x\n",
    "            \n",
    "            g   = alpha / (1.0 + x.pow(n)) - x  #### Compute ODE value: g = alpha / (1 + x^n) - x\n",
    "            \n",
    "            g_x = -1.0 - alpha * n * x.pow(n - 1.0) / (1.0 + x.pow(n)).pow(2.0)  # Compute derivative of g with respect to x\n",
    "\n",
    "            \n",
    "            step = g / g_x #### Newton step: Δx = g(x)/g'(x)\n",
    "\n",
    "            x = x - step #### Update x\n",
    "\n",
    "            #### check for convergence\n",
    "            if torch.max(torch.abs(step)) < tol: # Stop when the L-infinity norm of the step or step size is tiny\n",
    "                break\n",
    "\n",
    "        # Save tensors for backward pass thus gradient computation\n",
    "        ctx.save_for_backward(x, alpha, n)\n",
    "        return x\n",
    "\n",
    "    @staticmethod\n",
    "    def backward(ctx, grad_out: torch.Tensor):\n",
    "        \"\"\"\n",
    "        Compute gradients of xss with respect to alpha and n for optimization.\n",
    "        \n",
    "        Args:\n",
    "            ctx: Context with saved tensors (x, alpha, n).\n",
    "            grad_out (torch.Tensor): Gradient from downstream computations.\n",
    "\n",
    "        Returns:\n",
    "            tuple: Gradients with respect to alpha, n, and None for it, tol.\n",
    "        \"\"\"\n",
    "        x, alpha, n = ctx.saved_tensors\n",
    "\n",
    "        \n",
    "        \n",
    "        g_x = -1.0 - alpha * n * x.pow(n - 1.0) / (1.0 + x.pow(n)).pow(2.0) #### g_x = ∂g/∂x. Again, g is the ODE\n",
    "\n",
    "        \n",
    "        g_a = 1.0 / (1.0 + x.pow(n)) #### g_alpha = ∂g/∂alpha\n",
    "\n",
    "        \n",
    "        #### d/dn [alpha/(1 + x^n)] = -alpha * (x^n * ln x) / (1 + x^n)^2\n",
    "        g_n = -alpha * x.pow(n) * torch.log(x.clamp_min(1e-12)) / (1.0 + x.pow(n)).pow(2.0) #### g_n = ∂g/∂n   (note the log(x); clamp to avoid log(0))\n",
    "\n",
    "        #### Chain rule: gradient of output with respect to inputs\n",
    "        coeff = -grad_out / g_x\n",
    "        d_alpha = coeff * g_a\n",
    "        d_n     = coeff * g_n\n",
    "\n",
    "        return d_alpha, d_n, None, None #### The last two Nones correspond to it and tol, which are not tensors\n",
    "\n"
   ]
  },
  {
   "cell_type": "markdown",
   "id": "5767d10b",
   "metadata": {},
   "source": [
    "Problem Definition"
   ]
  },
  {
   "cell_type": "code",
   "execution_count": 3,
   "id": "77ebe48d",
   "metadata": {},
   "outputs": [],
   "source": [
    "\n",
    "\n",
    "class SensitivityMOP(BaseMOP):\n",
    "    \"\"\"\n",
    "    Multi-objective problem definition:\n",
    "\n",
    "    Decision variables:\n",
    "      z = [alpha, n] with\n",
    "      alpha ∈ [0.001, 50.0],  n ∈ [0.001, 10.0]\n",
    "\n",
    "    Objectives (minimize):\n",
    "      f1 = |S_{alpha, x_ss}| (smooth abs)\n",
    "      f2 = |S_{n,     x_ss}| (smooth abs)\n",
    "\n",
    "    Implementation notes:\n",
    "    - We compute x_ss via XssNewton.apply(alpha, n).\n",
    "    - We clamp x inside logs via clamp_min to avoid log(0).\n",
    "    - Return shape: (batch_size, 2)\n",
    "    \"\"\"\n",
    "\n",
    "    def __init__(self, eps = 1e-8):\n",
    "        super().__init__(n_var=2, n_obj=2, n_cons=0)\n",
    "        self.problem_name = \"ZDT1\" \n",
    "        self.n_dim = self.n_var = 2  #### Two variables: α and n\n",
    "        self.n_obj = 2   #### Two objectives: S_α and S_n\n",
    "        self.lbound = torch.tensor([0.001, 0.001])  #### Lower bounds for [α, n]\n",
    "        self.ubound = torch.tensor([50.0 , 10.0 ])  #### Upper bounds for [α, n]\n",
    "        self.eps = float(eps)   #### Numerical stability parameter\n",
    "\n",
    "    def _evaluate_torch(self, z):\n",
    "        \"\"\"\n",
    "        Evaluate objectives for a batch of candidates.\n",
    "\n",
    "        Parameters\n",
    "        ----------\n",
    "        z (torch.Tensor): Input tensor of shape (batch_size, 2), where each row is [α, n]\n",
    "\n",
    "        Returns\n",
    "        -------\n",
    "        torch.Tensor: Objective values of shape (batch_size, 2), where each row is [S_α, S_n]\n",
    "        \"\"\"\n",
    "        lb = self.lbound.to(z.device)\n",
    "        ub = self.ubound.to(z.device)\n",
    "\n",
    "        # Enforce box constraints (keeps the solver well-behaved)\n",
    "        alpha = z[:, 0].clamp(lb[0], ub[0])\n",
    "        n     = z[:, 1].clamp(lb[1], ub[1])\n",
    "\n",
    "        \n",
    "        x = XssNewton.apply(alpha, n)  #### Find steady state using Newton's method\n",
    "\n",
    "        #### Calculate first sensitivity objective: S_α\n",
    "        numerator1 = alpha * (1 + x.pow(n))\n",
    "        denominator1 = x + alpha * n * x.pow(n) + 2 * x.pow(1+n) + x.pow(1+2*n)\n",
    "        f1 = abs_smooth(numerator1 / denominator1, self.eps)\n",
    "        \n",
    "        #### Calculate second sensitivity objective: S_n\n",
    "        numerator2 = alpha * n * torch.log(x.clamp_min(1e-12)) * x.pow(n-1)\n",
    "        denominator2 = 1 + alpha * n * x.pow(n-1) + 2 * x.pow(n) + x.pow(2*n)\n",
    "        f2 = abs_smooth(-numerator2 / denominator2, self.eps)\n",
    "        \n",
    "        \n",
    "        return torch.stack([f1, f2], dim=1) #### Stack the two objectives into a single tensor \n",
    "\n"
   ]
  },
  {
   "cell_type": "markdown",
   "id": "060be16b",
   "metadata": {},
   "source": [
    "Optimization Setup and Execution"
   ]
  },
  {
   "cell_type": "code",
   "execution_count": 4,
   "id": "79ee5903",
   "metadata": {},
   "outputs": [
    {
     "name": "stderr",
     "output_type": "stream",
     "text": [
      "100%|██████████| 10/10 [00:17<00:00,  1.74s/it]\n"
     ]
    }
   ],
   "source": [
    "\n",
    "\n",
    "#### Instantiate the problem\n",
    "problem = SensitivityMOP(eps=1e-8)\n",
    "\n",
    "K = 500 #### Number of preference vectors (solutions to find); larger K means more coverage of the Pareto front\n",
    "\n",
    "prefs = get_uniform_pref(K, 2, clip_eps=1e-2) # Generate uniform preference vectors (weights for objectives); Each row sums to 1. # These encourage coverage of different trade-off directions\n",
    "\n",
    "# Random initialization across the box (alpha, n)\n",
    "lb, ub = problem.lbound, problem.ubound\n",
    "x0 = lb + torch.rand(K, 2) * (ub - lb)\n",
    "\n",
    "# Gradient-based Pareto optimizer\n",
    "solver = EPOSolver(\n",
    "    step_size=1e-1,   #### learning rate for gradient descent or Size of each optimization step (bigger = faster but riskier)\n",
    "    n_epoch=10,      #### optimization iterations or number of epochs\n",
    "    tol=1e-6,         #### early-stop threshold inside EPOSolver. Think of it as the tolerance for convergence\n",
    "    problem=problem,  #### Optimization problem\n",
    "    prefs=prefs  #### Preference weights\n",
    ")\n",
    "\n",
    "# Run optimization\n",
    "res = solver.solve(x_init=x0)\n"
   ]
  },
  {
   "cell_type": "markdown",
   "id": "8cc2398d",
   "metadata": {},
   "source": [
    "If you prefer to use the explicit logic for pareto front; The algorithm doesn't target so many edge cases but it does just fine if I/you choose a large number of K."
   ]
  },
  {
   "cell_type": "code",
   "execution_count": null,
   "id": "9841254b",
   "metadata": {},
   "outputs": [
    {
     "data": {
      "image/png": "[encoded data removed]",
      "text/plain": [
       "<Figure size 800x600 with 1 Axes>"
      ]
     },
     "metadata": {},
     "output_type": "display_data"
    }
   ],
   "source": [
    "\n",
    "# Extract decision variables and objective values\n",
    "X = res[\"x\"]  # shape (K, 2) : (alpha, n)\n",
    "Y = res[\"y\"]  # shape (K, 2) : (f1, f2)\n",
    "\n",
    "\n",
    "idx = np.argsort(Y[:, 0])   # sort by f1 ascending\n",
    "keep = []\n",
    "best_f2 = np.inf\n",
    "for i in idx:\n",
    "    f2 = Y[i, 1]\n",
    "    if f2 <= best_f2:\n",
    "        keep.append(i)\n",
    "        best_f2 = f2\n",
    "\n",
    "Y_pf = Y[keep]   # Pareto front in objective space\n",
    "# (Optional) X_pf = X[keep]  # corresponding (alpha, n)\n",
    "\n",
    "\n",
    "plt.figure(figsize=(8, 6))\n",
    "plt.scatter(Y_pf[:, 0], Y_pf[:, 1], s=12)\n",
    "plt.xlabel(r\"$|S_{\\alpha,\\,x_{ss}}|$\")\n",
    "plt.ylabel(r\"$|S_{n,\\,x_{ss}}|$\")\n",
    "plt.title(\"Pareto Front (libmoon EPOSolver)\")\n",
    "plt.grid(True, alpha=0.3)\n",
    "plt.tight_layout()\n",
    "plt.show()\n"
   ]
  },
  {
   "cell_type": "markdown",
   "id": "333798b4",
   "metadata": {},
   "source": [
    "If you prefer to use Paretoset"
   ]
  },
  {
   "cell_type": "code",
   "execution_count": 7,
   "id": "5ea84314",
   "metadata": {},
   "outputs": [
    {
     "data": {
      "image/png": "[encoded data removed]",
      "text/plain": [
       "<Figure size 800x600 with 1 Axes>"
      ]
     },
     "metadata": {},
     "output_type": "display_data"
    }
   ],
   "source": [
    "\n",
    "import paretoset\n",
    "X = res[\"x\"]  # Optimized alpha, n pairs\n",
    "Y = res[\"y\"]  # Sensitivities (S_alpha, S_n)\n",
    "\n",
    "\n",
    "\n",
    "import numpy as np\n",
    "from paretoset import paretoset\n",
    "\n",
    "# 'paretoset' expects a matrix of costs. Since we want to minimize both objectives, we can use Y directly.\n",
    "# The second argument ['min', 'min'] specifies we are minimizing both columns.\n",
    "mask = paretoset(Y, sense=['min', 'min'])\n",
    "\n",
    "Y_pf_paretoset = Y[mask]\n",
    "\n",
    "# Plot\n",
    "plt.figure(figsize=(8,6))\n",
    "plt.scatter(Y_pf_paretoset[:, 0], Y_pf_paretoset[:, 1], s=12)\n",
    "plt.xlabel(\"|S_alpha|\")\n",
    "plt.ylabel(\"|S_n|\")\n",
    "plt.title(\"Pareto Front extracted with paretoset library\")\n",
    "plt.tight_layout()\n",
    "plt.show()"
   ]
  },
  {
   "cell_type": "markdown",
   "id": "70269c6b",
   "metadata": {},
   "source": [
    "If you prefer to use Pymoo's NonDominatedSorting"
   ]
  },
  {
   "cell_type": "code",
   "execution_count": 5,
   "id": "d40fd179",
   "metadata": {},
   "outputs": [
    {
     "data": {
      "image/png": "[encoded data removed]",
      "text/plain": [
       "<Figure size 800x600 with 1 Axes>"
      ]
     },
     "metadata": {},
     "output_type": "display_data"
    }
   ],
   "source": [
    "\n",
    "\n",
    "X = res[\"x\"]  # Optimized alpha, n pairs\n",
    "Y = res[\"y\"]  # Sensitivities (S_alpha, S_n)\n",
    "\n",
    "\n",
    "from pymoo.util.nds.non_dominated_sorting import NonDominatedSorting\n",
    "\n",
    "#### PyMoo's NonDominatedSorting returns a list of fronts.\n",
    "#### The first front (index 0) is the true Pareto front.\n",
    "nds = NonDominatedSorting()\n",
    "fronts = nds.do(Y, only_non_dominated_front=True) # This returns only the first front\n",
    "\n",
    "Y_pf_pymoo = Y[fronts]\n",
    "\n",
    "# Plot\n",
    "plt.figure(figsize=(8,6))\n",
    "plt.scatter(Y_pf_pymoo[:, 0], Y_pf_pymoo[:, 1], s=12)\n",
    "plt.xlabel(\"|S_alpha|\")\n",
    "plt.ylabel(\"|S_n|\")\n",
    "plt.title(\"Pareto Front extracted with PyMoo\")\n",
    "plt.tight_layout()\n",
    "plt.show()"
   ]
  },
  {
   "cell_type": "markdown",
   "id": "3ef736dd",
   "metadata": {},
   "source": []
  },
  {
   "cell_type": "markdown",
   "id": "93dca293",
   "metadata": {},
   "source": [
    "I found a very lay explanation of the logic behind the EPOSolver. I hope it helps:\n",
    "\n",
    "The Core Idea: The \"Tug-of-War\" Guided by Preferences\n",
    "Imagine you have two teams in a tug-of-war:\n",
    "\n",
    "Team Alpha: Represents your desire to minimize sensitivity to the alpha parameter (S_alpha).\n",
    "\n",
    "Team N: Represents your desire to minimize sensitivity to the n parameter (S_n).\n",
    "\n",
    "Pulling the rope in Team Alpha's direction improves S_alpha but makes S_n worse. Pulling for Team N does the opposite. You can't pull the rope in both directions at once.\n",
    "\n",
    "What does EPO do?\n",
    "EPO is like a smart coach who gives specific, personalized instructions to 5000 different rope pullers (your solutions). Each puller is told exactly how much to care about Team Alpha vs. Team N. This is their preference vector.\n",
    "\n",
    "One puller is told: \"Care 100% about Team Alpha, 0% about Team N.\" This puller will drag the rope all the way to Alpha's side.\n",
    "\n",
    "Another is told: \"Care 100% about Team N, 0% about Team Alpha.\" This one pulls all the way to N's side.\n",
    "\n",
    "A third is told: \"Care 50% about each team.\" This puller finds a perfect balance in the middle.\n",
    "\n",
    "EPO's job is to train each of these 5000(K value) pullers to pull the rope as hard as they can according to their specific instructions."
   ]
  },
  {
   "cell_type": "markdown",
   "id": "f5b852e1",
   "metadata": {},
   "source": [
    "Analogy for the Whole Algorithm:\n",
    "\n",
    "Imagine you’re designing a car to be both fast and fuel-efficient (like minimizing S_alpha and S_n). \n",
    "The algorithm:\n",
    "   1. Finds the car’s cruising speed (xss) for each design (alpha, n) using a precise tool (XssNewton).\n",
    "   2. Checks how much the speed changes if you tweak the engine (alpha) or aerodynamics (n) (SensitivityMOP).\n",
    "   3. Starts with 5000 random car designs and uses a smart GPS (EPOSolver) to tweak each design, guided by preferences for speed vs. efficiency.\n",
    "   4. Picks the best designs where no car is better in both speed and efficiency (Pareto front).\n",
    "   5. Shows a chart of the best designs, letting you pick one based on whether you care more about speed or efficiency.\n",
    "\n"
   ]
  }
 ],
 "metadata": {
  "kernelspec": {
   "display_name": "ComputerVision2",
   "language": "python",
   "name": "python3"
  },
  "language_info": {
   "codemirror_mode": {
    "name": "ipython",
    "version": 3
   },
   "file_extension": ".py",
   "mimetype": "text/x-python",
   "name": "python",
   "nbconvert_exporter": "python",
   "pygments_lexer": "ipython3",
   "version": "3.11.0"
  }
 },
 "nbformat": 4,
 "nbformat_minor": 5
}

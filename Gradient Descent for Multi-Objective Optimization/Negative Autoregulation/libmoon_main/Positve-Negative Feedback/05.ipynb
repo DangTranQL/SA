{
 "cells": [
  {
   "cell_type": "code",
   "execution_count": null,
   "id": "690128e5",
   "metadata": {},
   "outputs": [],
   "source": []
  },
  {
   "cell_type": "code",
   "execution_count": null,
   "id": "558efa59",
   "metadata": {},
   "outputs": [],
   "source": []
  }
 ],
 "metadata": {
  "language_info": {
   "name": "python"
  }
 },
 "nbformat": 4,
 "nbformat_minor": 5
}

{
 "cells": [
  {
   "cell_type": "code",
   "execution_count": null,
   "metadata": {},
   "outputs": [],
   "source": []
  },
  {
   "cell_type": "code",
   "execution_count": 1,
   "metadata": {},
   "outputs": [],
   "source": [
    "import libmoon\n",
    "from libmoon.solver.gradient.methods import EPOSolver\n",
    "from libmoon.util.synthetic import synthetic_init\n",
    "from libmoon.util.prefs import get_uniform_pref\n",
    "from libmoon.util import get_problem\n"
   ]
  },
  {
   "cell_type": "code",
   "execution_count": 2,
   "metadata": {},
   "outputs": [],
   "source": [
    "import torch, numpy as np, matplotlib.pyplot as plt\n",
    "\n",
    "# Device/dtype config\n",
    "DEVICE = torch.device(\"cuda\" if torch.cuda.is_available() else \"cpu\")\n",
    "USE_FP32_ON_GPU =True  \n",
    "DTYPE = torch.float32 if (DEVICE.type == \"cuda\" and USE_FP32_ON_GPU) else torch.float64\n",
    "\n",
    "torch.set_default_dtype(DTYPE)\n",
    "torch.manual_seed(0); np.random.seed(0)\n",
    "\n",
    "\n",
    "IT_NEWTON = 60\n",
    "TOL_NEWTON = 1e-12 if DTYPE == torch.float64 else 1e-8\n",
    "\n",
    "\n",
    "def abs_smooth(z, eps=1e-12):\n",
    "    return torch.sqrt(z*z + eps)\n",
    "\n",
    "\n",
    "class XssNewton(torch.autograd.Function):\n",
    "    @staticmethod\n",
    "    def forward(ctx, alpha, n, it=60, tol=1e-12):\n",
    "        x = torch.ones_like(alpha)\n",
    "        for _ in range(it):\n",
    "            g   = alpha / (1 + x.pow(n)) - x\n",
    "            g_x = -1 - alpha*n*x.pow(n-1)/(1 + x.pow(n)).pow(2)\n",
    "            step = g / g_x\n",
    "            x = (x - step).clamp_min(1e-9)\n",
    "            if torch.max(torch.abs(step)) < tol:\n",
    "                break\n",
    "        ctx.save_for_backward(x, alpha, n)\n",
    "        return x\n",
    "\n",
    "    @staticmethod\n",
    "    def backward(ctx, grad_out):\n",
    "        x, alpha, n = ctx.saved_tensors\n",
    "        g_x = -1 - alpha*n*x.pow(n-1)/(1 + x.pow(n)).pow(2)\n",
    "        g_a = 1/(1 + x.pow(n))\n",
    "        g_n = -alpha*x.pow(n)*torch.log(x.clamp_min(1e-12))/(1 + x.pow(n)).pow(2)\n",
    "        coeff = -grad_out/g_x\n",
    "        return coeff*g_a, coeff*g_n, None, None, None\n"
   ]
  },
  {
   "cell_type": "code",
   "execution_count": 3,
   "metadata": {},
   "outputs": [],
   "source": [
    "from libmoon.problem.synthetic.mop import BaseMOP\n",
    "class SensitivityMOP(BaseMOP):\n",
    "    def __init__(self, eps=1e-8):\n",
    "        super().__init__(n_var=2, n_obj=2, n_cons=0)\n",
    "        self.problem_name = \"ZDT1\"\n",
    "        self.n_dim = self.n_var = 2\n",
    "        self.n_obj = 2\n",
    "        self.lbound = torch.tensor([0.001, 0.001], dtype=DTYPE, device=DEVICE)\n",
    "        self.ubound = torch.tensor([50.0 , 10.0], dtype=DTYPE, device=DEVICE)\n",
    "        self.eps = float(eps)\n",
    "\n",
    "    def _evaluate_torch(self, z: torch.Tensor) -> torch.Tensor:\n",
    "        lb = self.lbound\n",
    "        ub = self.ubound\n",
    "        alpha = z[:,0].clamp(lb[0], ub[0])\n",
    "        n     = z[:,1].clamp(lb[1], ub[1])\n",
    "        x     = XssNewton.apply(alpha, n, IT_NEWTON, TOL_NEWTON)\n",
    "        f1 = abs_smooth(alpha*(1+x.pow(n)) /\n",
    "               (x + alpha*n*x.pow(n)+2*x.pow(1+n)+x.pow(1+2*n)), self.eps)\n",
    "        num2 = alpha*n*torch.log(x.clamp_min(1e-12))*x.pow(n-1)\n",
    "        den2 = 1 + alpha*n*x.pow(n-1) + 2*x.pow(n) + x.pow(2*n)\n",
    "        f2 = abs_smooth(-num2/den2, self.eps)\n",
    "        return torch.stack([f1, f2], dim=1)\n"
   ]
  },
  {
   "cell_type": "code",
   "execution_count": 6,
   "metadata": {},
   "outputs": [
    {
     "name": "stderr",
     "output_type": "stream",
     "text": [
      "100%|██████████| 50/50 [22:59<00:00, 27.59s/it]\n"
     ]
    }
   ],
   "source": [
    "from libmoon.solver.gradient.methods import EPOSolver\n",
    "from libmoon.util.prefs import get_uniform_pref\n",
    "\n",
    "problem = SensitivityMOP()\n",
    "\n",
    "K = 5000\n",
    "\n",
    "eps_pref = 1e-4\n",
    "t = torch.linspace(eps_pref, 1 - eps_pref, steps=K, dtype=DTYPE, device=DEVICE)\n",
    "prefs = torch.stack([t, 1 - t], dim=1)\n",
    "\n",
    "lb, ub = problem.lbound, problem.ubound\n",
    "\n",
    "sobol = torch.quasirandom.SobolEngine(dimension=2, scramble=True)\n",
    "\n",
    "xu = sobol.draw(K).to(dtype=DTYPE, device=DEVICE)\n",
    "x0 = lb + xu * (ub - lb)\n",
    "\n",
    "solver = EPOSolver(\n",
    "    step_size=5e-4,\n",
    "    n_epoch=50,\n",
    "    tol=1e-5,\n",
    "    problem=problem,\n",
    "    prefs=prefs,\n",
    ")\n",
    "\n",
    "res = solver.solve(x_init=x0)\n"
   ]
  },
  {
   "cell_type": "code",
   "execution_count": 7,
   "metadata": {},
   "outputs": [
    {
     "data": {
      "image/png": "[encoded data removed]",
      "text/plain": [
       "<Figure size 1000x800 with 1 Axes>"
      ]
     },
     "metadata": {},
     "output_type": "display_data"
    }
   ],
   "source": [
    "X = res[\"x\"]\n",
    "Y = res[\"y\"]\n",
    "\n",
    "\n",
    "if torch.is_tensor(Y):\n",
    "    Y_np = Y.detach().cpu().numpy()\n",
    "else:\n",
    "    Y_np = np.asarray(Y)\n",
    "\n",
    "\n",
    "Y_pf = None\n",
    "\n",
    "from paretoset import paretoset\n",
    "mask = paretoset(Y_np, sense=[\"min\", \"min\"])  # both objectives minimized\n",
    "Y_pf = Y_np[mask]\n",
    "\n",
    "import matplotlib.pyplot as plt\n",
    "plt.figure(figsize=(10,8))\n",
    "plt.scatter(Y_pf[:, 0], Y_pf[:, 1], s=10, label=\"Pareto points\")\n",
    "plt.xlabel(\"|S_alpha|\")\n",
    "plt.ylabel(\"|S_n|\")\n",
    "plt.title(\"Pareto front \")\n",
    "plt.legend(frameon=False)\n",
    "plt.tight_layout()\n",
    "plt.show()\n"
   ]
  },
  {
   "cell_type": "markdown",
   "metadata": {},
   "source": [
    "z_new = z_old - learning_rate * [ p1 * ∇f1(z) + p2 * ∇f2(z) ]\n",
    "z = (alpha, n)"
   ]
  },
  {
   "cell_type": "markdown",
   "metadata": {},
   "source": [
    "You generate K preference vectors (prefs). Each vector, like [0.9, 0.1] or [0.5, 0.5], tells the optimizer how to weight the two objectives. A preference of [0.9, 0.1] means \"I care 90% about minimizing f1 and 10% about minimizing f2\".\n",
    "\n",
    "You use the EPO (Equilibrium Policy Optimization) solver. For each initial guess and its corresponding preference vector, EPO performs gradient descent. It calculates the gradients of the two objectives and uses the preference to decide the direction to move in the variable space (alpha, n) that best satisfies that specific preference.\n",
    "\n",
    "The step_size (learning rate) controls the size of each update step.\n",
    "\n",
    "Result: After optimization, you have K solutions. Each solution is a pair (alpha, n) that is optimal for a specific trade-off between f1 and f2."
   ]
  },
  {
   "cell_type": "code",
   "execution_count": null,
   "metadata": {},
   "outputs": [],
   "source": []
  },
  {
   "cell_type": "code",
   "execution_count": null,
   "metadata": {},
   "outputs": [],
   "source": []
  },
  {
   "cell_type": "code",
   "execution_count": null,
   "metadata": {},
   "outputs": [],
   "source": []
  },
  {
   "cell_type": "code",
   "execution_count": null,
   "metadata": {},
   "outputs": [],
   "source": []
  },
  {
   "cell_type": "markdown",
   "metadata": {},
   "source": [
    "I am mapping the Pareto front for two competing sensitivity functions. I start by generating a diverse set of 2000 initial points in the design variable space. Then, I use solver (EPO) to optimize these points. The solver uses a set of preference directions to find solutions that represent optimal trade-offs between minimizing the two sensitivities. Finally, I extract the non-dominated solutions from these results to plot the Pareto front, which shows the best achievable compromises between |S_alpha| and |S_n|."
   ]
  },
  {
   "cell_type": "markdown",
   "metadata": {},
   "source": [
    "# What this notebook is doing (simple explanation)\n",
    "\n",
    "- We choose two design knobs: alpha and n. For each pair (alpha, n), we compute a steady-state value x by solving one equation with Newton's method. This inner solve is made differentiable so gradients can flow through it.\n",
    "- From x we compute two numbers (objectives): f1 and f2. Smaller is better for both.\n",
    "- A Pareto point is one where you can’t make f1 smaller without making f2 bigger (and vice versa).\n",
    "- We generate many “preferences” (weights) that say how much we care about f1 vs f2. For each preference, our solver nudges (alpha, n) in a direction that improves both objectives according to that trade‑off.\n",
    "- Doing this for lots of preferences traces out the whole Pareto front. Then we keep only the non‑dominated points and plot them.\n",
    "\n",
    "Why it sometimes looks jagged and how we fixed it:\n",
    "- Randomness and big steps cause tiny zig‑zags. We switched to evenly‑spaced preferences, smaller steps, more epochs, double precision, and a tighter inner Newton solve. We also add a small visual smoothing line to make the plotted curve look cleaner without changing the actual solutions.\n"
   ]
  },
  {
   "cell_type": "markdown",
   "metadata": {},
   "source": [
    "# High-level algorithm breakdown\n",
    "\n",
    "## Big picture\n",
    "- Goal: find all no-regret designs for two objectives f1 and f2 (minimize both).\n",
    "- A Pareto point is one you can’t improve in f1 without worsening f2.\n",
    "- We sweep trade-offs (preferences) and do small gradient steps that respect each trade-off to trace the front.\n",
    "\n",
    "## Building blocks\n",
    "- Design variables: (alpha, n).\n",
    "- Inner solve: for each (alpha, n), compute steady-state x via differentiable Newton.\n",
    "- Objectives: compute f1(alpha, n, x) and f2(alpha, n, x).\n",
    "\n",
    "## Covering trade-offs\n",
    "- Generate K preference weights (w1, w2) with w1 + w2 = 1, evenly spaced from f1-focus to f2-focus.\n",
    "- Initialize K candidates across the bounds (Sobol) to cover the space.\n",
    "\n",
    "## Optimization loop (per epoch)\n",
    "1) Evaluate f = [f1, f2] and gradients w.r.t. (alpha, n) for all K candidates.\n",
    "2) Use EPO (Efficient Pareto Optimization) to choose a convex combination of objective gradients per preference that yields a fair descent direction.\n",
    "3) Take a small step in (alpha, n) along that direction and project back into bounds.\n",
    "4) Repeat until steps are tiny or the epoch limit is reached.\n",
    "\n",
    "## Extracting the Pareto front\n",
    "- After training, collect all objective pairs Y.\n",
    "- Select the non-dominated subset (Pareto points) using a Pareto extractor (paretoset/pymoo), then plot.\n",
    "\n",
    "## Why this recovers the curve\n",
    "- Evenly spaced preferences cover extremes and the middle.\n",
    "- EPO directions respect the current trade-off, so nearby preferences land on nearby front points.\n",
    "- Stable numerics (double precision, tight Newton, careful step sizes) reduce jaggedness.\n",
    "\n",
    "## What each part contributes\n",
    "- Newton layer: fast, differentiable steady-state x → smooth objectives.\n",
    "- EPO step: principled multi-objective descent that avoids one objective dominating.\n",
    "- Non-dominated selection: keeps only truly optimal trade-offs for plotting.\n"
   ]
  }
 ],
 "metadata": {
  "kernelspec": {
   "display_name": "ComputerVision2",
   "language": "python",
   "name": "python3"
  },
  "language_info": {
   "codemirror_mode": {
    "name": "ipython",
    "version": 3
   },
   "file_extension": ".py",
   "mimetype": "text/x-python",
   "name": "python",
   "nbconvert_exporter": "python",
   "pygments_lexer": "ipython3",
   "version": "3.11.0"
  }
 },
 "nbformat": 4,
 "nbformat_minor": 2
}

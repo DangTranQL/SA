{
 "cells": [
  {
   "cell_type": "code",
   "execution_count": 3,
   "id": "0c1800f5",
   "metadata": {},
   "outputs": [],
   "source": [
    "import numpy as np\n",
    "# from tqdm import tqdm\n",
    "# from paretoset import paretoset\n",
    "# import matplotlib.pyplot as plt\n",
    "# import warnings\n",
    "from itertools import product\n",
    "\n",
    "params = ['alpha', 'n']\n",
    "func_names = ['S_alpha', 'S_n']\n",
    "bounds = {'alpha': (0.01, 50), 'n': (0.01, 10)}\n",
    "# objectives = compute\n",
    "\n",
    "num_n = 10\n",
    "num_alpha = 5*num_n\n",
    "choices_n = np.linspace(bounds['n'][0], bounds['n'][1], num_n)\n",
    "choices_alpha = np.linspace(bounds['alpha'][0], bounds['alpha'][1], num_alpha)\n",
    "pairs = list(product(choices_alpha, choices_n))"
   ]
  },
  {
   "cell_type": "code",
   "execution_count": 4,
   "id": "c1f8d11f",
   "metadata": {},
   "outputs": [
    {
     "data": {
      "text/plain": [
       "np.int64(24)"
      ]
     },
     "execution_count": 4,
     "metadata": {},
     "output_type": "execute_result"
    }
   ],
   "source": [
    "np.prod([1,2,3,4])"
   ]
  }
 ],
 "metadata": {
  "kernelspec": {
   "display_name": "mosa",
   "language": "python",
   "name": "python3"
  },
  "language_info": {
   "codemirror_mode": {
    "name": "ipython",
    "version": 3
   },
   "file_extension": ".py",
   "mimetype": "text/x-python",
   "name": "python",
   "nbconvert_exporter": "python",
   "pygments_lexer": "ipython3",
   "version": "3.13.5"
  }
 },
 "nbformat": 4,
 "nbformat_minor": 5
}
